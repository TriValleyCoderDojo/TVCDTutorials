{
 "metadata": {
  "name": "part4 - slicing, string interpolation, list comprehension, JSON weather API"
 },
 "nbformat": 3,
 "nbformat_minor": 0,
 "worksheets": [
  {
   "cells": [
    {
     "cell_type": "code",
     "collapsed": false,
     "input": [
      "from __future__ import print_function\n",
      "from __future__ import division"
     ],
     "language": "python",
     "metadata": {},
     "outputs": [],
     "prompt_number": 2
    },
    {
     "cell_type": "code",
     "collapsed": false,
     "input": [
      "4 / 3"
     ],
     "language": "python",
     "metadata": {},
     "outputs": [
      {
       "output_type": "pyout",
       "prompt_number": 4,
       "text": [
        "1.3333333333333333"
       ]
      }
     ],
     "prompt_number": 4
    },
    {
     "cell_type": "markdown",
     "metadata": {},
     "source": [
      "# The Zen of Python"
     ]
    },
    {
     "cell_type": "code",
     "collapsed": false,
     "input": [
      "import this"
     ],
     "language": "python",
     "metadata": {},
     "outputs": [
      {
       "output_type": "stream",
       "stream": "stdout",
       "text": [
        "The Zen of Python, by Tim Peters\n",
        "\n",
        "Beautiful is better than ugly.\n",
        "Explicit is better than implicit.\n",
        "Simple is better than complex.\n",
        "Complex is better than complicated.\n",
        "Flat is better than nested.\n",
        "Sparse is better than dense.\n",
        "Readability counts.\n",
        "Special cases aren't special enough to break the rules.\n",
        "Although practicality beats purity.\n",
        "Errors should never pass silently.\n",
        "Unless explicitly silenced.\n",
        "In the face of ambiguity, refuse the temptation to guess.\n",
        "There should be one-- and preferably only one --obvious way to do it.\n",
        "Although that way may not be obvious at first unless you're Dutch.\n",
        "Now is better than never.\n",
        "Although never is often better than *right* now.\n",
        "If the implementation is hard to explain, it's a bad idea.\n",
        "If the implementation is easy to explain, it may be a good idea.\n",
        "Namespaces are one honking great idea -- let's do more of those!\n"
       ]
      }
     ],
     "prompt_number": 5
    },
    {
     "cell_type": "markdown",
     "metadata": {},
     "source": [
      "# Slicing"
     ]
    },
    {
     "cell_type": "code",
     "collapsed": false,
     "input": [
      "a = range(10)\n",
      "print(a)"
     ],
     "language": "python",
     "metadata": {},
     "outputs": [
      {
       "output_type": "stream",
       "stream": "stdout",
       "text": [
        "[0, 1, 2, 3, 4, 5, 6, 7, 8, 9]\n"
       ]
      }
     ],
     "prompt_number": 7
    },
    {
     "cell_type": "code",
     "collapsed": false,
     "input": [
      "print(a[2])\n",
      "print(a[-1])\n"
     ],
     "language": "python",
     "metadata": {},
     "outputs": [
      {
       "output_type": "stream",
       "stream": "stdout",
       "text": [
        "2\n",
        "9\n"
       ]
      }
     ],
     "prompt_number": 10
    },
    {
     "cell_type": "code",
     "collapsed": false,
     "input": [
      "print(a[2:4])\n",
      "print(a[2:5:2])"
     ],
     "language": "python",
     "metadata": {},
     "outputs": [
      {
       "output_type": "stream",
       "stream": "stdout",
       "text": [
        "[2, 3]\n",
        "[2, 4]\n"
       ]
      }
     ],
     "prompt_number": 13
    },
    {
     "cell_type": "code",
     "collapsed": false,
     "input": [
      "print(a[2:])\n",
      "# reverse the whole list\n",
      "print(a[::-1])"
     ],
     "language": "python",
     "metadata": {},
     "outputs": [
      {
       "output_type": "stream",
       "stream": "stdout",
       "text": [
        "[2, 3, 4, 5, 6, 7, 8, 9]\n",
        "[9, 8, 7, 6, 5, 4, 3, 2, 1, 0]\n"
       ]
      }
     ],
     "prompt_number": 17
    },
    {
     "cell_type": "code",
     "collapsed": false,
     "input": [
      "# replace a subset of the list in one go\n",
      "b = range(11,15)\n",
      "a[1:5] = b\n",
      "print(a)\n"
     ],
     "language": "python",
     "metadata": {},
     "outputs": [
      {
       "output_type": "stream",
       "stream": "stdout",
       "text": [
        "[0, 11, 12, 13, 14, 5, 6, 7, 8, 9]\n"
       ]
      }
     ],
     "prompt_number": 19
    },
    {
     "cell_type": "code",
     "collapsed": false,
     "input": [
      "# a string works like a list of characters\n",
      "s = \"The quick brown fox jumps over the lazy dog.\"\n",
      "s[4:-5]"
     ],
     "language": "python",
     "metadata": {},
     "outputs": [
      {
       "output_type": "pyout",
       "prompt_number": 21,
       "text": [
        "'quick brown fox jumps over the lazy'"
       ]
      }
     ],
     "prompt_number": 21
    },
    {
     "cell_type": "markdown",
     "metadata": {},
     "source": [
      "# List comprehension"
     ]
    },
    {
     "cell_type": "code",
     "collapsed": false,
     "input": [
      "# turn the sentence into a list of words\n",
      "# by default this splits on space, but you could use any other delimiter\n",
      "words = s.split()\n",
      "# print the length of all words that are not in the stop list\n",
      "print([len(w) for w in words if w.lower() not in ['the', 'a']])\n",
      "# upper case only the words containing O\n",
      "[w.upper() if 'o' in w else w for w in words]"
     ],
     "language": "python",
     "metadata": {},
     "outputs": [
      {
       "output_type": "stream",
       "stream": "stdout",
       "text": [
        "[5, 5, 3, 5, 4, 4, 4]\n"
       ]
      },
      {
       "output_type": "pyout",
       "prompt_number": 29,
       "text": [
        "['The', 'quick', 'BROWN', 'FOX', 'jumps', 'OVER', 'the', 'lazy', 'DOG.']"
       ]
      }
     ],
     "prompt_number": 29
    },
    {
     "cell_type": "markdown",
     "metadata": {},
     "source": [
      "# String interpolation"
     ]
    },
    {
     "cell_type": "code",
     "collapsed": false,
     "input": [
      "s = \"The quick brown %s jumps over the lazy %s.\" % ('dog', 'fox')\n",
      "print(s)"
     ],
     "language": "python",
     "metadata": {},
     "outputs": [
      {
       "output_type": "stream",
       "stream": "stdout",
       "text": [
        "The quick brown dog jumps over the lazy fox.\n"
       ]
      }
     ],
     "prompt_number": 4
    },
    {
     "cell_type": "code",
     "collapsed": false,
     "input": [
      "s = \"The quick brown %(quick_animal)s jumps over the lazy %(lazy_animal)s.\" % {'quick_animal': 'fox', 'lazy_animal': 'dog'}\n",
      "print(s)"
     ],
     "language": "python",
     "metadata": {},
     "outputs": [
      {
       "output_type": "stream",
       "stream": "stdout",
       "text": [
        "The quick brown fox jumps over the lazy dog.\n"
       ]
      }
     ],
     "prompt_number": 5
    },
    {
     "cell_type": "markdown",
     "metadata": {},
     "source": [
      "# Using a JSON weather forecasting API to plot nice graphs"
     ]
    },
    {
     "cell_type": "code",
     "collapsed": false,
     "input": [
      "import json\n",
      "import urllib2\n",
      "\n",
      "json_fileobject = urllib2.urlopen('http://api.openweathermap.org/data/2.5/forecast/daily?q=Delft,nl&mode=json&units=metric&cnt=7')"
     ],
     "language": "python",
     "metadata": {},
     "outputs": [],
     "prompt_number": 3
    },
    {
     "cell_type": "code",
     "collapsed": false,
     "input": [
      "wdict = json.load(json_fileobject)"
     ],
     "language": "python",
     "metadata": {},
     "outputs": [],
     "prompt_number": 4
    },
    {
     "cell_type": "code",
     "collapsed": false,
     "input": [
      "# wdict['list'] contains a list with a dictionary for each day\n",
      "print(wdict['list'][0]['rain'])\n",
      "print(wdict['list'][0]['speed'])\n",
      "# this will display the per-day dictionary\n",
      "wdict['list'][0]"
     ],
     "language": "python",
     "metadata": {},
     "outputs": [
      {
       "output_type": "stream",
       "stream": "stdout",
       "text": [
        "3\n",
        "3.4\n"
       ]
      },
      {
       "output_type": "pyout",
       "prompt_number": 5,
       "text": [
        "{u'clouds': 56,\n",
        " u'deg': 193,\n",
        " u'dt': 1372762800,\n",
        " u'humidity': 77,\n",
        " u'pressure': 1023.03,\n",
        " u'rain': 3,\n",
        " u'speed': 3.4,\n",
        " u'temp': {u'day': 19,\n",
        "  u'eve': 19,\n",
        "  u'max': 19,\n",
        "  u'min': 16.11,\n",
        "  u'morn': 19,\n",
        "  u'night': 16.11},\n",
        " u'weather': [{u'description': u'light rain',\n",
        "   u'icon': u'10d',\n",
        "   u'id': 500,\n",
        "   u'main': u'Rain'}]}"
       ]
      }
     ],
     "prompt_number": 5
    },
    {
     "cell_type": "code",
     "collapsed": false,
     "input": [
      "[d['temp']['day'] for d in wdict['list']]"
     ],
     "language": "python",
     "metadata": {},
     "outputs": [
      {
       "output_type": "pyout",
       "prompt_number": 6,
       "text": [
        "[19, 15.84, 17.07, 15.17, 17.37, 20.63, 18.27]"
       ]
      }
     ],
     "prompt_number": 6
    },
    {
     "cell_type": "code",
     "collapsed": false,
     "input": [
      "wdict['main']['temp']"
     ],
     "language": "python",
     "metadata": {},
     "outputs": [
      {
       "output_type": "pyout",
       "prompt_number": 58,
       "text": [
        "20"
       ]
      }
     ],
     "prompt_number": 58
    },
    {
     "cell_type": "code",
     "collapsed": false,
     "input": [
      "import datetime\n",
      "import json\n",
      "import urllib2\n",
      "\n",
      "def plot_weather_forecast(city, country_code, num_days):\n",
      "    url = 'http://api.openweathermap.org/data/2.5/forecast/daily?q=%s,%s&mode=json&units=metric&cnt=%d' % (city, country_code, num_days)\n",
      "    json_fileobject = urllib2.urlopen(url)\n",
      "    wdict = json.load(json_fileobject)\n",
      "    \n",
      "    tdr = [(d['temp']['min'], d['temp']['max'], d.get('rain',0), d['speed']) for d in wdict['list']]\n",
      "    \n",
      "    days = range(num_days)\n",
      "    \n",
      "    plot(days, tdr)\n",
      "\n",
      "    \n",
      "    day_words = ['sun', 'mon', 'tue', 'wed', 'thu', 'fri', 'sat']\n",
      "    # which day is it today? [0 is Sunday]\n",
      "    day = datetime.date.today().weekday\n",
      "    # slice the day_words array in two, split at today, then stick\n",
      "    # the first part after the second part. this gives us a new\n",
      "    # array which starts at today!\n",
      "    day_words_starting_today = day_words[day:] + day_words[:day]\n",
      "    \n",
      "    # we can now use this for the correct day labels on the x-axis\n",
      "    xticks(days, day_words_starting_today)\n",
      "    \n",
      "    legend(['temp min', 'temp max', 'rain', 'wind speed'], loc='best')\n",
      "    \n",
      "    title(\"%d day forecast for %s\" % (num_days, city))\n",
      "    grid()\n",
      "    \n",
      "plot_weather_forecast('Delft','nl',7)\n"
     ],
     "language": "python",
     "metadata": {},
     "outputs": [
      {
       "output_type": "display_data",
       "png": "[encoded data removed]"
      }
     ],
     "prompt_number": 9
    },
    {
     "cell_type": "code",
     "collapsed": false,
     "input": [
      "import datetime\n",
      "t = datetime.date.today()\n",
      "t.weekday"
     ],
     "language": "python",
     "metadata": {},
     "outputs": [
      {
       "output_type": "pyout",
       "prompt_number": 123,
       "text": [
        "2"
       ]
      }
     ],
     "prompt_number": 123
    }
   ],
   "metadata": {}
  }
 ]
}
